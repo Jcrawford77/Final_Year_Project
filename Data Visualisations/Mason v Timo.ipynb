{
 "cells": [
  {
   "cell_type": "code",
   "execution_count": 1,
   "metadata": {},
   "outputs": [],
   "source": [
    "import pandas as pd\n",
    "import matplotlib as plt\n",
    "from soccerplots.radar_chart import Radar"
   ]
  },
  {
   "cell_type": "code",
   "execution_count": 2,
   "metadata": {},
   "outputs": [
    {
     "data": {
      "text/html": [
       "<div>\n",
       "<style scoped>\n",
       "    .dataframe tbody tr th:only-of-type {\n",
       "        vertical-align: middle;\n",
       "    }\n",
       "\n",
       "    .dataframe tbody tr th {\n",
       "        vertical-align: top;\n",
       "    }\n",
       "\n",
       "    .dataframe thead th {\n",
       "        text-align: right;\n",
       "    }\n",
       "</style>\n",
       "<table border=\"1\" class=\"dataframe\">\n",
       "  <thead>\n",
       "    <tr style=\"text-align: right;\">\n",
       "      <th></th>\n",
       "      <th>Player</th>\n",
       "      <th>Positon</th>\n",
       "      <th>Apps</th>\n",
       "      <th>Min</th>\n",
       "      <th>Goals</th>\n",
       "      <th>Assists</th>\n",
       "      <th>sh90</th>\n",
       "      <th>xG</th>\n",
       "      <th>xA</th>\n",
       "      <th>xG90</th>\n",
       "      <th>xA90</th>\n",
       "    </tr>\n",
       "  </thead>\n",
       "  <tbody>\n",
       "    <tr>\n",
       "      <th>0</th>\n",
       "      <td>Mason Mount</td>\n",
       "      <td>M</td>\n",
       "      <td>19</td>\n",
       "      <td>1253</td>\n",
       "      <td>7</td>\n",
       "      <td>5</td>\n",
       "      <td>2.80</td>\n",
       "      <td>5.08</td>\n",
       "      <td>4.18</td>\n",
       "      <td>0.36</td>\n",
       "      <td>0.30</td>\n",
       "    </tr>\n",
       "    <tr>\n",
       "      <th>1</th>\n",
       "      <td>Jorginho</td>\n",
       "      <td>M</td>\n",
       "      <td>18</td>\n",
       "      <td>1373</td>\n",
       "      <td>6</td>\n",
       "      <td>1</td>\n",
       "      <td>0.79</td>\n",
       "      <td>5.06</td>\n",
       "      <td>2.09</td>\n",
       "      <td>0.33</td>\n",
       "      <td>0.14</td>\n",
       "    </tr>\n",
       "    <tr>\n",
       "      <th>2</th>\n",
       "      <td>Romelu Lukaku</td>\n",
       "      <td>F</td>\n",
       "      <td>14</td>\n",
       "      <td>907</td>\n",
       "      <td>5</td>\n",
       "      <td>0</td>\n",
       "      <td>2.28</td>\n",
       "      <td>4.54</td>\n",
       "      <td>2.22</td>\n",
       "      <td>0.45</td>\n",
       "      <td>0.22</td>\n",
       "    </tr>\n",
       "    <tr>\n",
       "      <th>3</th>\n",
       "      <td>Reece James</td>\n",
       "      <td>D</td>\n",
       "      <td>16</td>\n",
       "      <td>1114</td>\n",
       "      <td>4</td>\n",
       "      <td>5</td>\n",
       "      <td>1.70</td>\n",
       "      <td>1.88</td>\n",
       "      <td>3.71</td>\n",
       "      <td>0.15</td>\n",
       "      <td>0.30</td>\n",
       "    </tr>\n",
       "    <tr>\n",
       "      <th>4</th>\n",
       "      <td>Ben Chilwell</td>\n",
       "      <td>D</td>\n",
       "      <td>6</td>\n",
       "      <td>540</td>\n",
       "      <td>3</td>\n",
       "      <td>1</td>\n",
       "      <td>2.17</td>\n",
       "      <td>1.30</td>\n",
       "      <td>0.83</td>\n",
       "      <td>0.22</td>\n",
       "      <td>0.14</td>\n",
       "    </tr>\n",
       "  </tbody>\n",
       "</table>\n",
       "</div>"
      ],
      "text/plain": [
       "          Player Positon  Apps   Min  Goals  Assists  sh90    xG    xA  xG90  \\\n",
       "0    Mason Mount       M    19  1253      7        5  2.80  5.08  4.18  0.36   \n",
       "1       Jorginho       M    18  1373      6        1  0.79  5.06  2.09  0.33   \n",
       "2  Romelu Lukaku       F    14   907      5        0  2.28  4.54  2.22  0.45   \n",
       "3    Reece James       D    16  1114      4        5  1.70  1.88  3.71  0.15   \n",
       "4   Ben Chilwell       D     6   540      3        1  2.17  1.30  0.83  0.22   \n",
       "\n",
       "   xA90  \n",
       "0  0.30  \n",
       "1  0.14  \n",
       "2  0.22  \n",
       "3  0.30  \n",
       "4  0.14  "
      ]
     },
     "execution_count": 2,
     "metadata": {},
     "output_type": "execute_result"
    }
   ],
   "source": [
    "#read chelsea dataset\n",
    "df = pd.read_csv(r\"C:\\Users\\Jonny\\chelseaplayers.csv\")\n",
    "df.head()\n",
    "#shows first 5 instances\n"
   ]
  },
  {
   "cell_type": "code",
   "execution_count": 3,
   "metadata": {},
   "outputs": [
    {
     "data": {
      "text/html": [
       "<div>\n",
       "<style scoped>\n",
       "    .dataframe tbody tr th:only-of-type {\n",
       "        vertical-align: middle;\n",
       "    }\n",
       "\n",
       "    .dataframe tbody tr th {\n",
       "        vertical-align: top;\n",
       "    }\n",
       "\n",
       "    .dataframe thead th {\n",
       "        text-align: right;\n",
       "    }\n",
       "</style>\n",
       "<table border=\"1\" class=\"dataframe\">\n",
       "  <thead>\n",
       "    <tr style=\"text-align: right;\">\n",
       "      <th></th>\n",
       "      <th>index</th>\n",
       "      <th>Player</th>\n",
       "      <th>Positon</th>\n",
       "      <th>Apps</th>\n",
       "      <th>Min</th>\n",
       "      <th>Goals</th>\n",
       "      <th>Assists</th>\n",
       "      <th>sh90</th>\n",
       "      <th>xG</th>\n",
       "      <th>xA</th>\n",
       "      <th>xG90</th>\n",
       "      <th>xA90</th>\n",
       "    </tr>\n",
       "  </thead>\n",
       "  <tbody>\n",
       "    <tr>\n",
       "      <th>0</th>\n",
       "      <td>0</td>\n",
       "      <td>Mason Mount</td>\n",
       "      <td>M</td>\n",
       "      <td>19</td>\n",
       "      <td>1253</td>\n",
       "      <td>7</td>\n",
       "      <td>5</td>\n",
       "      <td>2.80</td>\n",
       "      <td>5.08</td>\n",
       "      <td>4.18</td>\n",
       "      <td>0.36</td>\n",
       "      <td>0.30</td>\n",
       "    </tr>\n",
       "    <tr>\n",
       "      <th>1</th>\n",
       "      <td>11</td>\n",
       "      <td>Timo Werner</td>\n",
       "      <td>F</td>\n",
       "      <td>10</td>\n",
       "      <td>564</td>\n",
       "      <td>1</td>\n",
       "      <td>1</td>\n",
       "      <td>3.03</td>\n",
       "      <td>2.65</td>\n",
       "      <td>0.09</td>\n",
       "      <td>0.42</td>\n",
       "      <td>0.01</td>\n",
       "    </tr>\n",
       "  </tbody>\n",
       "</table>\n",
       "</div>"
      ],
      "text/plain": [
       "   index       Player Positon  Apps   Min  Goals  Assists  sh90    xG    xA  \\\n",
       "0      0  Mason Mount       M    19  1253      7        5  2.80  5.08  4.18   \n",
       "1     11  Timo Werner       F    10   564      1        1  3.03  2.65  0.09   \n",
       "\n",
       "   xG90  xA90  \n",
       "0  0.36  0.30  \n",
       "1  0.42  0.01  "
      ]
     },
     "execution_count": 3,
     "metadata": {},
     "output_type": "execute_result"
    }
   ],
   "source": [
    "#comparison\n",
    "df= df[ (df['Player']=='Mason Mount')|(df['Player']=='Timo Werner')].reset_index()\n",
    "df"
   ]
  },
  {
   "cell_type": "code",
   "execution_count": 4,
   "metadata": {},
   "outputs": [
    {
     "data": {
      "text/html": [
       "<div>\n",
       "<style scoped>\n",
       "    .dataframe tbody tr th:only-of-type {\n",
       "        vertical-align: middle;\n",
       "    }\n",
       "\n",
       "    .dataframe tbody tr th {\n",
       "        vertical-align: top;\n",
       "    }\n",
       "\n",
       "    .dataframe thead th {\n",
       "        text-align: right;\n",
       "    }\n",
       "</style>\n",
       "<table border=\"1\" class=\"dataframe\">\n",
       "  <thead>\n",
       "    <tr style=\"text-align: right;\">\n",
       "      <th></th>\n",
       "      <th>Player</th>\n",
       "      <th>Apps</th>\n",
       "      <th>Min</th>\n",
       "      <th>Goals</th>\n",
       "      <th>Assists</th>\n",
       "      <th>sh90</th>\n",
       "      <th>xG</th>\n",
       "      <th>xA</th>\n",
       "      <th>xG90</th>\n",
       "      <th>xA90</th>\n",
       "    </tr>\n",
       "  </thead>\n",
       "  <tbody>\n",
       "    <tr>\n",
       "      <th>0</th>\n",
       "      <td>Mason Mount</td>\n",
       "      <td>19</td>\n",
       "      <td>1253</td>\n",
       "      <td>7</td>\n",
       "      <td>5</td>\n",
       "      <td>2.80</td>\n",
       "      <td>5.08</td>\n",
       "      <td>4.18</td>\n",
       "      <td>0.36</td>\n",
       "      <td>0.30</td>\n",
       "    </tr>\n",
       "    <tr>\n",
       "      <th>1</th>\n",
       "      <td>Timo Werner</td>\n",
       "      <td>10</td>\n",
       "      <td>564</td>\n",
       "      <td>1</td>\n",
       "      <td>1</td>\n",
       "      <td>3.03</td>\n",
       "      <td>2.65</td>\n",
       "      <td>0.09</td>\n",
       "      <td>0.42</td>\n",
       "      <td>0.01</td>\n",
       "    </tr>\n",
       "  </tbody>\n",
       "</table>\n",
       "</div>"
      ],
      "text/plain": [
       "        Player  Apps   Min  Goals  Assists  sh90    xG    xA  xG90  xA90\n",
       "0  Mason Mount    19  1253      7        5  2.80  5.08  4.18  0.36  0.30\n",
       "1  Timo Werner    10   564      1        1  3.03  2.65  0.09  0.42  0.01"
      ]
     },
     "execution_count": 4,
     "metadata": {},
     "output_type": "execute_result"
    }
   ],
   "source": [
    "#Drop index and position from table as it should not be displayed in visual\n",
    "df = df.drop(['index','Positon'],axis=1)\n",
    "df\n"
   ]
  },
  {
   "cell_type": "code",
   "execution_count": 5,
   "metadata": {},
   "outputs": [
    {
     "data": {
      "text/plain": [
       "['Apps', 'Min', 'Goals', 'Assists', 'sh90', 'xG', 'xA', 'xG90', 'xA90']"
      ]
     },
     "execution_count": 5,
     "metadata": {},
     "output_type": "execute_result"
    }
   ],
   "source": [
    "#Use Paramaters to enusre correct columns are being used\n",
    "params= list(df.columns)\n",
    "params=params[1:]\n",
    "params"
   ]
  },
  {
   "cell_type": "code",
   "execution_count": 6,
   "metadata": {},
   "outputs": [],
   "source": [
    "#Use lists with ranges for data to have a minimum and maximum range of data in the visual\n",
    "ranges = []\n",
    "a_values = []\n",
    "b_values = []\n",
    "for x in params:\n",
    "    a = min(df[params][x])\n",
    "    a = a -(a*.25)\n",
    "\n",
    "    b = max(df[params][x])\n",
    "    b = b +(b*.25)\n",
    "    ranges.append((a,b))\n",
    "\n",
    "for x in range(len(df['Player'])):\n",
    "    if df['Player'][x]=='Mason Mount':\n",
    "        a_values = df.iloc[x].values.tolist()\n",
    "    if df['Player'][x]=='Timo Werner':\n",
    "        b_values = df.iloc[x].values.tolist()\n",
    "\n",
    "a_values = a_values[1:]\n",
    "b_values = b_values[1:]\n",
    "\n",
    "values = [a_values,b_values]"
   ]
  },
  {
   "cell_type": "code",
   "execution_count": 7,
   "metadata": {},
   "outputs": [
    {
     "data": {
      "text/plain": [
       "[[19, 1253, 7, 5, 2.8, 5.08, 4.18, 0.36, 0.3],\n",
       " [10, 564, 1, 1, 3.03, 2.65, 0.09, 0.42, 0.01]]"
      ]
     },
     "execution_count": 7,
     "metadata": {},
     "output_type": "execute_result"
    }
   ],
   "source": [
    "#show data values \n",
    "values"
   ]
  },
  {
   "cell_type": "code",
   "execution_count": 8,
   "metadata": {},
   "outputs": [],
   "source": [
    "#add title and colours for visuals\n",
    "title = dict(\n",
    "    title_name= 'Mason Mount',\n",
    "    title_colour='blue',\n",
    "    subtitle_name = 'Chelsea',\n",
    "    subtitle_colour = 'blue',\n",
    "    title_name_2= 'Timo Werner',\n",
    "    title_colour_2='yellow',\n",
    "    subtitle_name_2 = 'Chelsea',\n",
    "    subtitle_colour_2 = 'yellow',\n",
    "    title_fontsize = 18,\n",
    "    subtitle_fontsize =15\n",
    ")\n",
    "endnote = 'Jonathan Crawford'"
   ]
  },
  {
   "cell_type": "code",
   "execution_count": 9,
   "metadata": {},
   "outputs": [
    {
     "name": "stderr",
     "output_type": "stream",
     "text": [
      "findfont: Font family ['Liberation Serif'] not found. Falling back to DejaVu Sans.\n",
      "findfont: Font family ['Liberation Serif'] not found. Falling back to DejaVu Sans.\n",
      "findfont: Font family ['Liberation Serif'] not found. Falling back to DejaVu Sans.\n",
      "findfont: Font family ['Liberation Serif'] not found. Falling back to DejaVu Sans.\n",
      "findfont: Font family ['Liberation Serif'] not found. Falling back to DejaVu Sans.\n"
     ]
    },
    {
     "data": {
      "image/png": "[encoded data removed]",
      "text/plain": [
       "<Figure size 1440x720 with 1 Axes>"
      ]
     },
     "metadata": {},
     "output_type": "display_data"
    }
   ],
   "source": [
    "#create visula function using ranges, params and values\n",
    "radar = Radar()\n",
    "\n",
    "fig,ax = radar.plot_radar(ranges=ranges,params=params,values=values,\n",
    "                    radar_color=['red','blue'],\n",
    "                    alphas=[.75,.6],title=title,endnote=endnote,\n",
    "                    compare=True)"
   ]
  },
  {
   "cell_type": "code",
   "execution_count": 10,
   "metadata": {},
   "outputs": [
    {
     "data": {
      "text/html": [
       "<div>\n",
       "<style scoped>\n",
       "    .dataframe tbody tr th:only-of-type {\n",
       "        vertical-align: middle;\n",
       "    }\n",
       "\n",
       "    .dataframe tbody tr th {\n",
       "        vertical-align: top;\n",
       "    }\n",
       "\n",
       "    .dataframe thead th {\n",
       "        text-align: right;\n",
       "    }\n",
       "</style>\n",
       "<table border=\"1\" class=\"dataframe\">\n",
       "  <thead>\n",
       "    <tr style=\"text-align: right;\">\n",
       "      <th></th>\n",
       "      <th>index</th>\n",
       "      <th>Player</th>\n",
       "      <th>Apps</th>\n",
       "      <th>Min</th>\n",
       "      <th>Goals</th>\n",
       "      <th>Assists</th>\n",
       "      <th>sh90</th>\n",
       "      <th>xG</th>\n",
       "      <th>xA</th>\n",
       "      <th>xG90</th>\n",
       "      <th>xA90</th>\n",
       "    </tr>\n",
       "  </thead>\n",
       "  <tbody>\n",
       "    <tr>\n",
       "      <th>0</th>\n",
       "      <td>0</td>\n",
       "      <td>Mason Mount</td>\n",
       "      <td>19</td>\n",
       "      <td>1253</td>\n",
       "      <td>7</td>\n",
       "      <td>5</td>\n",
       "      <td>2.80</td>\n",
       "      <td>5.08</td>\n",
       "      <td>4.18</td>\n",
       "      <td>0.36</td>\n",
       "      <td>0.30</td>\n",
       "    </tr>\n",
       "    <tr>\n",
       "      <th>1</th>\n",
       "      <td>1</td>\n",
       "      <td>Timo Werner</td>\n",
       "      <td>10</td>\n",
       "      <td>564</td>\n",
       "      <td>1</td>\n",
       "      <td>1</td>\n",
       "      <td>3.03</td>\n",
       "      <td>2.65</td>\n",
       "      <td>0.09</td>\n",
       "      <td>0.42</td>\n",
       "      <td>0.01</td>\n",
       "    </tr>\n",
       "  </tbody>\n",
       "</table>\n",
       "</div>"
      ],
      "text/plain": [
       "   index       Player  Apps   Min  Goals  Assists  sh90    xG    xA  xG90  \\\n",
       "0      0  Mason Mount    19  1253      7        5  2.80  5.08  4.18  0.36   \n",
       "1      1  Timo Werner    10   564      1        1  3.03  2.65  0.09  0.42   \n",
       "\n",
       "   xA90  \n",
       "0  0.30  \n",
       "1  0.01  "
      ]
     },
     "execution_count": 10,
     "metadata": {},
     "output_type": "execute_result"
    }
   ],
   "source": [
    "#comparison\n",
    "df2= df[ (df['Player']=='Mason Mount')|(df['Player']=='Timo Werner')].reset_index()\n",
    "df2"
   ]
  }
 ],
 "metadata": {
  "interpreter": {
   "hash": "69eb92836b941e979072a76c7fcfffe5419cca933cedd02cfafbdfca1a93358c"
  },
  "kernelspec": {
   "display_name": "Python 3.9.10 64-bit",
   "language": "python",
   "name": "python3"
  },
  "language_info": {
   "codemirror_mode": {
    "name": "ipython",
    "version": 3
   },
   "file_extension": ".py",
   "mimetype": "text/x-python",
   "name": "python",
   "nbconvert_exporter": "python",
   "pygments_lexer": "ipython3",
   "version": "3.9.10"
  },
  "orig_nbformat": 4
 },
 "nbformat": 4,
 "nbformat_minor": 2
}
